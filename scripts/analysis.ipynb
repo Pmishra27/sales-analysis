{
 "cells": [
  {
   "cell_type": "markdown",
   "id": "0a3d1a55",
   "metadata": {},
   "source": [
    "# Import Libraries"
   ]
  },
  {
   "cell_type": "code",
   "execution_count": null,
   "id": "1690c110",
   "metadata": {
    "vscode": {
     "languageId": "plaintext"
    }
   },
   "outputs": [],
   "source": [
    "import pandas as pd\n",
    "import numpy as np\n",
    "import matplotlib.pyplot as plt\n",
    "import seaborn as sns\n",
    "import os\n",
    "from sklearn.preprocessing import MinMaxScaler"
   ]
  },
  {
   "cell_type": "markdown",
   "id": "1e424fa3",
   "metadata": {},
   "source": [
    "# Load Data"
   ]
  },
  {
   "cell_type": "code",
   "execution_count": null,
   "id": "d7f3ffd0",
   "metadata": {
    "vscode": {
     "languageId": "plaintext"
    }
   },
   "outputs": [],
   "source": [
    "file_path = r\"D:\\Project\\sales-analysis\\data\\AusApparalSales4thQrt2020.csv\"\n",
    "df = pd.read_csv(file_path, parse_dates=['Date'])"
   ]
  },
  {
   "cell_type": "markdown",
   "id": "343fc27f",
   "metadata": {},
   "source": [
    "# Data Wrangling"
   ]
  },
  {
   "cell_type": "code",
   "execution_count": null,
   "id": "3c8eb97a",
   "metadata": {
    "vscode": {
     "languageId": "plaintext"
    }
   },
   "outputs": [],
   "source": [
    "# Check missing values\n",
    "print(\"Missing values summary:\")\n",
    "print(df.isna().sum())\n",
    "\n",
    "# Handle missing values\n",
    "df_clean = df.dropna(subset=['State', 'Sales', 'Units', 'Group'])\n",
    "\n",
    "# Normalization\n",
    "scaler = MinMaxScaler()\n",
    "df_clean[['Sales_norm', 'Units_norm']] = scaler.fit_transform(df_clean[['Sales', 'Units']])"
   ]
  },
  {
   "cell_type": "markdown",
   "id": "fb74bed7",
   "metadata": {},
   "source": [
    "# Data Analysis"
   ]
  },
  {
   "cell_type": "code",
   "execution_count": null,
   "id": "350dd25e",
   "metadata": {
    "vscode": {
     "languageId": "plaintext"
    }
   },
   "outputs": [],
   "source": [
    "# Descriptive statistics\n",
    "desc_stats = df_clean[['Sales', 'Units']].describe()\n",
    "desc_stats.loc['mode'] = df_clean[['Sales', 'Units']].mode().iloc[0]\n",
    "\n",
    "# Sales performance\n",
    "state_sales = df_clean.groupby('State')['Sales'].sum().sort_values(ascending=False)\n",
    "group_sales = df_clean.groupby('Group')['Sales'].sum().sort_values(ascending=False)"
   ]
  },
  {
   "cell_type": "markdown",
   "id": "67450036",
   "metadata": {},
   "source": [
    "# Visualization"
   ]
  },
  {
   "cell_type": "code",
   "execution_count": null,
   "id": "148bbc6d",
   "metadata": {
    "vscode": {
     "languageId": "plaintext"
    }
   },
   "outputs": [],
   "source": [
    "# Configure plots\n",
    "%matplotlib inline\n",
    "plt.figure(figsize=(15, 10))\n",
    "\n",
    "# State-wise sales\n",
    "plt.subplot(2,2,1)\n",
    "state_group_sales = df_clean.groupby(['State', 'Group'])['Sales'].sum().unstack()\n",
    "state_group_sales.plot(kind='bar', stacked=True)\n",
    "plt.title('State-wise Sales by Group')\n",
    "\n",
    "# Time analysis\n",
    "plt.subplot(2,2,2)\n",
    "df_clean['Hour'] = pd.to_datetime(df_clean['Time']).dt.hour\n",
    "sns.lineplot(x='Hour', y='Sales', data=df_clean)\n",
    "plt.title('Hourly Sales Pattern')"
   ]
  },
  {
   "cell_type": "markdown",
   "id": "fc12257d",
   "metadata": {},
   "source": [
    "# Generate Reports"
   ]
  },
  {
   "cell_type": "code",
   "execution_count": null,
   "id": "36ee4cb8",
   "metadata": {
    "vscode": {
     "languageId": "plaintext"
    }
   },
   "outputs": [],
   "source": [
    "# Create output directory\n",
    "os.makedirs(r\"D:\\Project\\sales-analysis\\reports\", exist_ok=True)\n",
    "\n",
    "# Save reports\n",
    "df_clean.to_csv(r\"D:\\Project\\sales-analysis\\reports\\cleaned_data.csv\", index=False)"
   ]
  }
 ],
 "metadata": {
  "language_info": {
   "name": "python"
  }
 },
 "nbformat": 4,
 "nbformat_minor": 5
}
